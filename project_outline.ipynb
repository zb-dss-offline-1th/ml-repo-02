{
 "cells": [
  {
   "cell_type": "markdown",
   "id": "cfa42c7b",
   "metadata": {},
   "source": [
    "# B*Factory Project Outline - 프로젝트 기획서"
   ]
  },
  {
   "cell_type": "markdown",
   "id": "8d2e01df",
   "metadata": {
    "toc": true
   },
   "source": [
    "<h1>Table of Contents<span class=\"tocSkip\"></span></h1>\n",
    "<div class=\"toc\"><ul class=\"toc-item\"><li><span><a href=\"#주제-및-목표\" data-toc-modified-id=\"주제-및-목표-1\"><span class=\"toc-item-num\">1&nbsp;&nbsp;</span>주제 및 목표</a></span></li><li><span><a href=\"#기획의도-및-배경\" data-toc-modified-id=\"기획의도-및-배경-2\"><span class=\"toc-item-num\">2&nbsp;&nbsp;</span>기획의도 및 배경</a></span></li><li><span><a href=\"#선행자료-조사\" data-toc-modified-id=\"선행자료-조사-3\"><span class=\"toc-item-num\">3&nbsp;&nbsp;</span>선행자료 조사</a></span></li><li><span><a href=\"#데이터-수집-및-특성\" data-toc-modified-id=\"데이터-수집-및-특성-4\"><span class=\"toc-item-num\">4&nbsp;&nbsp;</span>데이터 수집 및 특성</a></span></li><li><span><a href=\"#모델\" data-toc-modified-id=\"모델-5\"><span class=\"toc-item-num\">5&nbsp;&nbsp;</span>모델</a></span></li><li><span><a href=\"#참고문헌(자료)\" data-toc-modified-id=\"참고문헌(자료)-6\"><span class=\"toc-item-num\">6&nbsp;&nbsp;</span>참고문헌(자료)</a></span></li></ul></div>"
   ]
  },
  {
   "cell_type": "markdown",
   "id": "69856878",
   "metadata": {},
   "source": [
    "## 주제 및 목표\n",
    "- 딥러닝/자연어 처리를 활용한 개인 맞춤형 에센스 처방(시퀀스) 추천\n",
    "  - 고객이 선호하는 기성 화장품과 해당 제품에 대한 감성품질 피드백(물성)을 입력 \n",
    "  - 주성분 분석을 통한 맞춤형 처방(성분 시퀀스)를 출력"
   ]
  },
  {
   "cell_type": "markdown",
   "id": "0fa6a252",
   "metadata": {},
   "source": [
    "---"
   ]
  },
  {
   "cell_type": "markdown",
   "id": "1fb94e33",
   "metadata": {},
   "source": [
    "## 기획의도 및 배경\n",
    "\n",
    "**[ 배경 ]**\n",
    "\n",
    "시장 안정성 및 사업 성장 가능성: \n",
    "- 세계 미용산업의 꾸준한 성장률 + 경제위기시에도 상대적으로 강한 회복력\n",
    "- 셀프케어 트렌드로 피부관리 제품의 판매량 증가 (코로나19, AI기술+뷰티산업 결합의 영향)\n",
    "- 세계 뷰티테크 시장 연평균 19.1%씩 성장, 2023년 예상 시장규모 930억 달러(약 113조원) 이상\n",
    "- 국내 뷰티테크 사업을 위한 인프라 구비\n",
    "  - 2018년 맞춤형화장품 관련 법안 통과\n",
    "  - 2020년 세계 최초로 맞춤형화장품 제도 시행\n",
    "\n",
    "**[ 기획 의도 ]**\n",
    "- 현재 시장에 존재하는 맞춤형화장품 서비스(기성 제품 최저가 탐색, 주성분 검색 등)의 발전\n",
    "- B*Factory가 보유한 3D 프린트를 활용한 초개인화 스킨케어 제공 서비스\n",
    "- 화장품의 소프트웨어화:\n",
    "  - 화장품의 지속적인 버전업 가능\n",
    "  - 재고관리 용이\n",
    "  - 락인 효과 발생"
   ]
  },
  {
   "cell_type": "markdown",
   "id": "0fa6a252",
   "metadata": {},
   "source": [
    "---"
   ]
  },
  {
   "cell_type": "markdown",
   "id": "4fef5d23",
   "metadata": {},
   "source": [
    "## 선행자료 조사\n",
    "- 유사한 주제로 어떤 자료들이 있고, 활용되고 있는지 조사\n",
    "- 선행자료와 본인의 주제는 어떠한 차이점이 있는지 제시\n",
    "- 표로 정리하여 제시하는 것을 권장\n",
    "\n",
    "### 유사 주제 프로젝트: agorina91 의 'Skincare recommendations' Project\n",
    "> https://github.com/agorina91/final_project\n",
    "- 데이터 출처/수집: Sephora/selenium webdriver\n",
    "- 모델: LDA Clustering\n",
    "- 결과물 1: 사용자 특징 기반의 제품 추천 모델\n",
    "  - 사용자 특징(피부톤, 피부타입, 안구색, 머리색) + 제품 평점 사용\n",
    "- 결과물 2: 주성분 기반의 제품 추천 모델\n",
    "  - 각 제품의 화학 조성의 코사인 유사도 분석\n",
    "- 결과물 3: 모델1 과 모델2를 결합한 하이브리드 모델\n",
    "  - 사용자 아이디, 제품 평점으로 주성분 기반의 제품 추천"
   ]
  },
  {
   "cell_type": "markdown",
   "id": "0fa6a252",
   "metadata": {},
   "source": [
    "---"
   ]
  },
  {
   "cell_type": "markdown",
   "id": "c29b1448",
   "metadata": {},
   "source": [
    "## 데이터 수집 및 특성\n",
    "- 데이터 수집 방법 제시\n",
    "- 데이터 특성 소개"
   ]
  },
  {
   "cell_type": "markdown",
   "id": "0fa6a252",
   "metadata": {},
   "source": [
    "---"
   ]
  },
  {
   "cell_type": "markdown",
   "id": "32bf84c8",
   "metadata": {},
   "source": [
    "## 모델\n",
    "### Transformer\n",
    "자연어 처리: 기존 RNN 계열 모델의 정보 손실문제 보정 + 데이터 병렬처리로 성능 향상\n",
    "Multi-head self-attention을 이용\n",
    "- **GPT**:<br>\n",
    "    트랜스포머의 디코더 아키텍쳐를 활용한 일방향 언어모델\n",
    "- **BERT**:<br>\n",
    "    트랜스포머의 인코더 아키텍쳐를 활용한 양방향 마스크 언어모델"
   ]
  },
  {
   "cell_type": "markdown",
   "id": "0fa6a252",
   "metadata": {},
   "source": [
    "---"
   ]
  },
  {
   "cell_type": "markdown",
   "id": "162ba7e6",
   "metadata": {},
   "source": [
    "## 참고문헌(자료)\n",
    "- \"맞춤형화장품 세계 시장동향 조사분석 자료집\" - 식품의약품안전처 홈페이지\n",
    "    >https://www.mfds.go.kr/brd/m_218/view.do?seq=33455&srchFr=&srchTo=&srchWord=&srchTp=&itm_seq_1=0&itm_seq_2=0&multi_itm_seq=0&company_cd=&company_nm=&page=1\n",
    "    \n",
    "- \"How COVID-19 is changing the world of beauty\" - Mckinsey & Company\n",
    "    > https://www.mckinsey.com/~/media/McKinsey/Industries/Consumer%20Packaged%20Goods/Our%20Insights/How%20COVID%2019%20is%20changing%20the%20world%20of%20beauty/How-COVID-19-is-changing-the-world-of-beauty-vF.pdf\n",
    "\n",
    "- \"AI·초개인화 더한 화장품, ‘뷰티테크’로 진화하다\" - 매거진 한경 이명지 기자\n",
    "    > https://magazine.hankyung.com/business/article/202203094198b\n",
    "\n",
    "- \"뷰티산업 현황과 뷰티AI산업 전망\" - 상명대학교 서광규 교수 (한국디지털융합진흥원)\n",
    "    > http://www.kidico.or.kr/bbs/board.php?bo_table=mactivity&wr_id=126\n",
    "\n",
    "- \"완제품이 사라진다? ‘립스틱도 커피처럼’…매일 아침 만들어 바르세요\" - 중앙일보 유지연 기자\n",
    "    > https://www.joongang.co.kr/article/23977041#home\n",
    "\n",
    "- \"뷰티산업 견인할 'TOP 4' 기술 트렌드는?\" - 화장품신문 이충욱 기자\n",
    "    > https://www.beautynury.com/m/news/view/93945/cat/10?mobile=yes\n",
    "\n",
    "- \"자연어 처리 - Transformer, BERT, GPT-3\" - Blog heave_17\n",
    "    > https://heave.tistory.com/73"
   ]
  }
 ],
 "metadata": {
  "kernelspec": {
   "display_name": "Python 3 (ipykernel)",
   "language": "python",
   "name": "python3"
  },
  "language_info": {
   "codemirror_mode": {
    "name": "ipython",
    "version": 3
   },
   "file_extension": ".py",
   "mimetype": "text/x-python",
   "name": "python",
   "nbconvert_exporter": "python",
   "pygments_lexer": "ipython3",
   "version": "3.9.7"
  },
  "toc": {
   "base_numbering": 1,
   "nav_menu": {},
   "number_sections": true,
   "sideBar": true,
   "skip_h1_title": true,
   "title_cell": "Table of Contents",
   "title_sidebar": "Contents",
   "toc_cell": true,
   "toc_position": {},
   "toc_section_display": true,
   "toc_window_display": false
  }
 },
 "nbformat": 4,
 "nbformat_minor": 5
}
