{
 "cells": [
  {
   "cell_type": "markdown",
   "id": "cfa42c7b",
   "metadata": {},
   "source": [
    "# B-Factory Project Outline - 프로젝트 기획서"
   ]
  },
  {
   "cell_type": "markdown",
   "id": "8d2e01df",
   "metadata": {
    "toc": true
   },
   "source": [
    "<h1>Table of Contents<span class=\"tocSkip\"></span></h1>\n",
    "<div class=\"toc\"><ul class=\"toc-item\"><li><span><a href=\"#주제-및-목표\" data-toc-modified-id=\"주제-및-목표-1\"><span class=\"toc-item-num\">1&nbsp;&nbsp;</span>주제 및 목표</a></span></li><li><span><a href=\"#기획의도-및-배경\" data-toc-modified-id=\"기획의도-및-배경-2\"><span class=\"toc-item-num\">2&nbsp;&nbsp;</span>기획의도 및 배경</a></span></li><li><span><a href=\"#선행자료-조사\" data-toc-modified-id=\"선행자료-조사-3\"><span class=\"toc-item-num\">3&nbsp;&nbsp;</span>선행자료 조사</a></span></li><li><span><a href=\"#데이터-수집-및-특성\" data-toc-modified-id=\"데이터-수집-및-특성-4\"><span class=\"toc-item-num\">4&nbsp;&nbsp;</span>데이터 수집 및 특성</a></span></li><li><span><a href=\"#모델\" data-toc-modified-id=\"모델-5\"><span class=\"toc-item-num\">5&nbsp;&nbsp;</span>모델</a></span></li><li><span><a href=\"#참고문헌(자료)\" data-toc-modified-id=\"참고문헌(자료)-6\"><span class=\"toc-item-num\">6&nbsp;&nbsp;</span>참고문헌(자료)</a></span></li></ul></div>"
   ]
  },
  {
   "cell_type": "markdown",
   "id": "69856878",
   "metadata": {},
   "source": [
    "## 주제 및 목표\n",
    "- 예) 머신러닝 기반 직업 추천 시스템, 딥러닝으로 욕설 탐지하기\n",
    "- 주제를 봤을 때, ***“무엇을 이용해서 어떤 걸 하겠다”*** 라는게 직관적으로 이해되어야 합니다."
   ]
  },
  {
   "cell_type": "markdown",
   "id": "0fa6a252",
   "metadata": {},
   "source": [
    "---"
   ]
  },
  {
   "cell_type": "markdown",
   "id": "1fb94e33",
   "metadata": {},
   "source": [
    "## 기획의도 및 배경\n",
    "- 산업조사를 바탕으로 한 주제 선정 이유"
   ]
  },
  {
   "cell_type": "markdown",
   "id": "0fa6a252",
   "metadata": {},
   "source": [
    "---"
   ]
  },
  {
   "cell_type": "markdown",
   "id": "4fef5d23",
   "metadata": {},
   "source": [
    "## 선행자료 조사\n",
    "- 유사한 주제로 어떤 자료들이 있고, 활용되고 있는지 조사\n",
    "- 선행자료와 본인의 주제는 어떠한 차이점이 있는지 제시\n",
    "- 표로 정리하여 제시하는 것을 권장"
   ]
  },
  {
   "cell_type": "markdown",
   "id": "c29737d1",
   "metadata": {},
   "source": [
    "### 유사 주제 1: agorina91 의 'Skincare recommendations' Project\n",
    "> https://github.com/agorina91/final_project\n",
    "\n",
    "**[ 접근 방식 ]**\n",
    "1. 사용자 특징 분석 (유전자 분석과 근접한 접근): skin tone, skin type, eye color, hair color\n",
    "2. 다양한 NLP 기법을 사용한 화학적 관계 이해 (생화학 배경지식은 없음): 제품 주성분 데이터를 NLP 기법으로 분석하여 사용자가 선호하는 제품과 유사한 성분을 사용하는 제품을 추천\n",
    "\n",
    "**[ 데이터 수집 및 특성공학 ]**\n",
    "- 출처/수집방법: Sephora.com (selenium webdriver)\n",
    "- 수집 데이터:\n",
    "  - 'Username', 'Skin_Tone', 'Skin_Type', 'Eye_Color', 'Hair_Color'\n",
    "  - 'Rating_Stars', 'Review', 'Product', 'Brand', 'Price', 'Rating'\n",
    "  - 'Ingredients', 'Combination', 'Dry', 'Normal', 'Oily', 'Sensitive','Category'\n",
    "  - 'Product_Url', 'User_id', 'Product_id','Ingredients_Cleaned', 'Review_Cleaned', 'Good_Stuff', 'Ing_Tfidf'\n",
    "\n",
    "**[ EDA ]**\n",
    "\n",
    "Sephora 웹사이트에 사용자들이 남긴 제품 평점 (1~5점)의 비율이 매우 불균형함이 확인됨\n",
    "- 1~3점이 각각 2,000건 미만, 4점이 약 2,000건, 5점이 10,000건 이상 = **만족도가 높은 고객들만 평점을 남기는 경향이 있다고 판단**\n",
    "- 추천 시스템에 문제를 야기할 수 있어 '5점' 과 '4점 이하'으로 분류\n",
    "- 사용자가 평점 5점을 남길 것으로 예측되는 제품에 한하여 추천되도록 threshold 설정\n",
    "\n",
    "Remark: wordcloud 시각화 결과 부정적 피드백에 제품의 냄새 'smell' 키워드가 다수 확인됨\n",
    "\n",
    "**[ LDA Clustering ]**\n",
    "\n",
    "![lda](https://github.com/agorina91/final_project/blob/master/images/LDA_with_4.png?raw=true)\n",
    "\n",
    "**[ 최종 모델 ]**\n",
    "1. 사용자 특징 기반의 제품 추천 모델 (학습데이터 사용자의 특징 유사성 사용, rating에 따른 추천) (skin type, skin tone, eye color, hair color)<br>\n",
    "   \n",
    "  ![model1](https://github.com/agorina91/final_project/raw/master/images/UF_Recommender.png)\n",
    "3. 주성분 기반의 제품 추천 모델 (각 제품의 화학 조성의 코사인 유사도 분석)<br>\n",
    "   \n",
    "  ![model2](https://github.com/agorina91/final_project/raw/master/images/Ing_sim_rec.png)\n",
    "4. 모델1 과 모델2의 특성을 합친 비지니스에 특화된 하이브리드 모델 (user id를 입력하여 해당<br>\n",
    "   \n",
    "  ![model3](https://github.com/agorina91/final_project/raw/master/images/user_rec.png)\n",
    "\n"
   ]
  },
  {
   "cell_type": "markdown",
   "id": "0fa6a252",
   "metadata": {},
   "source": [
    "---"
   ]
  },
  {
   "cell_type": "markdown",
   "id": "c29b1448",
   "metadata": {},
   "source": [
    "## 데이터 수집 및 특성\n",
    "- 데이터 수집 방법 제시\n",
    "- 데이터 특성 소개"
   ]
  },
  {
   "cell_type": "markdown",
   "id": "0fa6a252",
   "metadata": {},
   "source": [
    "---"
   ]
  },
  {
   "cell_type": "markdown",
   "id": "32bf84c8",
   "metadata": {},
   "source": [
    "## 모델\n",
    "- 선행자료에 따른 활용할 모델 소개"
   ]
  },
  {
   "cell_type": "markdown",
   "id": "0fa6a252",
   "metadata": {},
   "source": [
    "---"
   ]
  },
  {
   "cell_type": "markdown",
   "id": "162ba7e6",
   "metadata": {},
   "source": [
    "## 참고문헌(자료)\n",
    "- 뉴스기사\n",
    "- 논문\n",
    "- 블로그\n",
    "- 기타 등등"
   ]
  }
 ],
 "metadata": {
  "kernelspec": {
   "display_name": "Python 3 (ipykernel)",
   "language": "python",
   "name": "python3"
  },
  "language_info": {
   "codemirror_mode": {
    "name": "ipython",
    "version": 3
   },
   "file_extension": ".py",
   "mimetype": "text/x-python",
   "name": "python",
   "nbconvert_exporter": "python",
   "pygments_lexer": "ipython3",
   "version": "3.9.7"
  },
  "toc": {
   "base_numbering": 1,
   "nav_menu": {},
   "number_sections": true,
   "sideBar": true,
   "skip_h1_title": true,
   "title_cell": "Table of Contents",
   "title_sidebar": "Contents",
   "toc_cell": true,
   "toc_position": {},
   "toc_section_display": true,
   "toc_window_display": false
  }
 },
 "nbformat": 4,
 "nbformat_minor": 5
}
