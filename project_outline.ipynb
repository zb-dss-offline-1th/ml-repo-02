{
 "cells": [
  {
   "cell_type": "markdown",
   "id": "cfa42c7b",
   "metadata": {},
   "source": [
    "# B*Factory Project Outline - 프로젝트 기획서"
   ]
  },
  {
   "cell_type": "markdown",
   "id": "8d2e01df",
   "metadata": {
    "toc": true
   },
   "source": [
    "<h1>Table of Contents<span class=\"tocSkip\"></span></h1>\n",
    "<div class=\"toc\"><ul class=\"toc-item\"><li><span><a href=\"#주제-및-목표\" data-toc-modified-id=\"주제-및-목표-1\"><span class=\"toc-item-num\">1&nbsp;&nbsp;</span>주제 및 목표</a></span></li><li><span><a href=\"#기획의도-및-배경\" data-toc-modified-id=\"기획의도-및-배경-2\"><span class=\"toc-item-num\">2&nbsp;&nbsp;</span>기획의도 및 배경</a></span></li><li><span><a href=\"#선행자료-조사\" data-toc-modified-id=\"선행자료-조사-3\"><span class=\"toc-item-num\">3&nbsp;&nbsp;</span>선행자료 조사</a></span></li><li><span><a href=\"#데이터-수집-및-특성\" data-toc-modified-id=\"데이터-수집-및-특성-4\"><span class=\"toc-item-num\">4&nbsp;&nbsp;</span>데이터 수집 및 특성</a></span></li><li><span><a href=\"#모델\" data-toc-modified-id=\"모델-5\"><span class=\"toc-item-num\">5&nbsp;&nbsp;</span>모델</a></span></li><li><span><a href=\"#참고문헌(자료)\" data-toc-modified-id=\"참고문헌(자료)-6\"><span class=\"toc-item-num\">6&nbsp;&nbsp;</span>참고문헌(자료)</a></span></li></ul></div>"
   ]
  },
  {
   "cell_type": "markdown",
   "id": "69856878",
   "metadata": {},
   "source": [
    "## 주제 및 목표\n",
    "- 딥러닝/자연어 처리를 활용한 개인 맞춤형 에센스 처방(시퀀스) 추천\n",
    "  - 고객이 선호하는 기성 화장품과 해당 제품에 대한 감성품질 피드백(물성)을 입력 \n",
    "  - 주성분 분석을 통한 맞춤형 처방(성분 시퀀스)를 출력"
   ]
  },
  {
   "cell_type": "markdown",
   "id": "0fa6a252",
   "metadata": {},
   "source": [
    "---"
   ]
  },
  {
   "cell_type": "markdown",
   "id": "1fb94e33",
   "metadata": {},
   "source": [
    "## 기획의도 및 배경\n",
    "\n",
    "**[ 배경 ]**\n",
    "\n",
    "시장 안정성 및 사업 성장 가능성: \n",
    "- 세계 미용산업의 꾸준한 성장률 + 경제위기시에도 상대적으로 강한 회복력\n",
    "- 셀프케어 트렌드로 피부관리 제품의 판매량 증가 (코로나19, AI기술+뷰티산업 결합의 영향)\n",
    "- 세계 뷰티테크 시장 연평균 19.1%씩 성장, 2023년 예상 시장규모 930억 달러(약 113조원) 이상\n",
    "- 국내 뷰티테크 사업을 위한 인프라 구비\n",
    "  - 2018년 맞춤형화장품 관련 법안 통과\n",
    "  - 2020년 세계 최초로 맞춤형화장품 제도 시행\n",
    "\n",
    "**[ 기획 의도 ]**\n",
    "- 현재 시장에 존재하는 맞춤형화장품 서비스(기성 제품 최저가 탐색, 주성분 검색 등)의 발전\n",
    "- B*Factory가 보유한 3D 프린트를 활용한 초개인화 스킨케어 제공 서비스\n",
    "- 화장품의 소프트웨어화:\n",
    "  - 화장품의 지속적인 버전업 가능\n",
    "  - 재고관리 용이\n",
    "  - 락인 효과 발생"
   ]
  },
  {
   "cell_type": "markdown",
   "id": "0fa6a252",
   "metadata": {},
   "source": [
    "---"
   ]
  },
  {
   "cell_type": "markdown",
   "id": "4fef5d23",
   "metadata": {},
   "source": [
    "## 선행자료 조사\n",
    "- 유사한 주제로 어떤 자료들이 있고, 활용되고 있는지 조사\n",
    "- 선행자료와 본인의 주제는 어떠한 차이점이 있는지 제시\n",
    "- 표로 정리하여 제시하는 것을 권장\n",
    "\n",
    "### 시장 조사\n",
    "##### **[ 맞춤형 화장품 비즈니스 유형 ]**\n",
    "|현장제조|내용물 소분(리필스테이션 포함)|\n",
    "|---|---|\n",
    "|•   제품을 안전하게 제조하기 위해 제조시설 관련 메뉴얼 및 교육이 별도로 필요<br>•   소비자에게 제조 과정을 보여줄 수 있어 즐거움과 신뢰를 동시에 제공<br>•   하지만 현장 제조를 컨트롤 하지 못하면 제품 품질과 안전에 영향을 미칠 수 있어 주의가 필요<br>•   현장 배치 인력의 중요성<br>•   [아모레퍼시픽 립팩토리](https://www.apgroup.com/int/ko/news/2020-12-17.html)|•   리필스테이션 형태로 활성화 되어있음<br>•   완제품을 특정 용기에 원하는 양만큼 담아서 구매할 수 있으며 클린뷰티와 연계된 비즈니스 모델<br>•   현장에서 고객이 소분해 갈 수 있는 친환경 용기를 판매하고 있으며 재질도 에코 프렌들리<br>•   유럽에서는 소비자가 클린뷰티 실현에 참여를 유도하는 장치들이 서비스에 녹아들어 있음<br>•   [아로마티카 리필스테이션](https://aromatica.co.kr/article/%EC%95%84%ED%8B%B0%ED%81%B4/21/82850/)|\n",
    "|기성화장품 추천|소비자 맞춤제작|\n",
    "|•   모바일 앱과 설문조사로 개인 피부상태를 조사하여 고객이 만족할 만한 제품을 추천<br>•   소비자가 제품을 간접적으로 체험해 볼 수 있도록 증강현실(AR) 기술을 접목<br>•   [L'Oréal modiface](https://www.loreal.com/en/beauty-science-and-technology/beauty-tech/discovering-modiface/), [perfect crop no.7](https://www.perfectcorp.com/ko/business/products/virtual-makeup?utm_source=google&utm_medium=cpc&utm_campaign=Sitelink_KR&utm_content=Makeup&gclid=Cj0KCQjwhLKUBhDiARIsAMaTLnFGT0618MYFiN0Ht4qYRLNnYExJv0OSDAfsqo6n3g9_tdWIQaF_Y1QaAkmREALw_wcB)|•   고객이 제품 디바이스를 구매하고 디바이스에 맞는 제품을 리필용 화장품을 구매하여 함께 사용<br>•   사용시점마다 신선하게 제품을 블랜딩하여 사용할 수 있고 편리하게 피부상태에 맞춰 사용가능한 장점<br>•   다만, 초기 기기 구매 시 투자비용이 들고 지속적으로 특정 화장품 브랜드만 구매하게 됨<br>[아모레퍼시픽 Formulaity](https://www.apgroup.com/int/ko/our-culture/rnd/rnd-news/1296384_11003.html)|\n",
    "|제조소 제조/제공|toun28|\n",
    "|•   소비자가 온라인 또는 오프라인에서 제품을 주문하고 제조하여 배송<br>•   화장품 제조를 현장에서 직접 하지 않기 때문에 상대적으로 안전하게 통제 가능<br>•   현장과 제조의 구분으로 인력고용 제약이 적음<br>•   [toun28](https://toun28.com/subscription)|•   개인화 맞춤 구독 서비스<br>•   데이터 분석 맞춤 - *계절/날씨 데이터 알고리즘 반영*<br>•   사용자의 기호에 따른 맞춤형이라기 보다는, 피부타입과 계절을 고려한 맞춤 화장품|\n",
    "\n",
    "### 유사 주제 프로젝트: agorina91 의 'Skincare recommendations' Project\n",
    "> https://github.com/agorina91/final_project\n",
    "- 데이터 출처/수집: Sephora/selenium webdriver\n",
    "- 모델: LDA Clustering\n",
    "- 결과물 1: 사용자 특징 기반의 제품 추천 모델\n",
    "  - 사용자 특징(피부톤, 피부타입, 안구색, 머리색) + 제품 평점 사용\n",
    "- 결과물 2: 주성분 기반의 제품 추천 모델\n",
    "  - 각 제품의 화학 조성의 코사인 유사도 분석\n",
    "- 결과물 3: 모델1 과 모델2를 결합한 하이브리드 모델\n",
    "  - 사용자 아이디, 제품 평점으로 주성분 기반의 제품 추천"
   ]
  },
  {
   "cell_type": "markdown",
   "id": "0fa6a252",
   "metadata": {},
   "source": [
    "---"
   ]
  },
  {
   "cell_type": "markdown",
   "id": "c29b1448",
   "metadata": {},
   "source": [
    "## 데이터 수집 및 특성\n",
    "- 데이터 수집 방법 제시\n",
    "- 데이터 특성 소개"
   ]
  },
  {
   "cell_type": "markdown",
   "id": "0fa6a252",
   "metadata": {},
   "source": [
    "---"
   ]
  },
  {
   "cell_type": "markdown",
   "id": "32bf84c8",
   "metadata": {},
   "source": [
    "## 모델\n",
    "### Transformer\n",
    "자연어 처리: 기존 RNN 계열 모델의 정보 손실문제 보정 + 데이터 병렬처리로 성능 향상\n",
    "Multi-head self-attention을 이용\n",
    "- **GPT**:<br>\n",
    "    GPT(Generative Pre-trained Transformer)는 트랜스포머의 디코더 아키텍쳐를 활용한 일방향 언어모델입니다.<br>\n",
    "    이전 단어들이 주어졌을 때 다음 단어가 무엇인지 맞추는 과정에서 프리트레인(pretrain)합니다.<br>\n",
    "    문장 시작부터 순차적으로 계산한다는 점에서 일방향(unidirectional)입니다.<br>\n",
    "    \n",
    "- **BERT**:<br>\n",
    "    BERT(Bidirectional Encoder Representations from Transformers)는 트랜스포머의 인코더 아키텍쳐를 활용한 양방향 마스크 언어모델(Masked Language Model)입니다.<br> \n",
    "    문장 중간에 빈칸을 만들고 해당 빈칸에 어떤 단어가 적절할지 맞추는 과정에서 프리트레인합니다. <br>\n",
    "    빈칸 앞뒤 문맥을 모두 살필 수 있다는 점에서 양방향(bidirectional) 성격을 가집니다.<br>\n",
    "\n",
    "\n",
    "이 때문에 GPT는 문장 생성에, BERT는 문장의 의미를 추출하는 데 강점을 지닌 것으로 알려져 있습니다.\n"
   ]
  },
  {
   "cell_type": "markdown",
   "id": "0fa6a252",
   "metadata": {},
   "source": [
    "---"
   ]
  },
  {
   "cell_type": "markdown",
   "id": "162ba7e6",
   "metadata": {},
   "source": [
    "## 참고문헌(자료)\n",
    "- \"맞춤형화장품 세계 시장동향 조사분석 자료집\" - 식품의약품안전처 홈페이지\n",
    "    >https://www.mfds.go.kr/brd/m_218/view.do?seq=33455&srchFr=&srchTo=&srchWord=&srchTp=&itm_seq_1=0&itm_seq_2=0&multi_itm_seq=0&company_cd=&company_nm=&page=1\n",
    "    \n",
    "- \"How COVID-19 is changing the world of beauty\" - Mckinsey & Company\n",
    "    > https://www.mckinsey.com/~/media/McKinsey/Industries/Consumer%20Packaged%20Goods/Our%20Insights/How%20COVID%2019%20is%20changing%20the%20world%20of%20beauty/How-COVID-19-is-changing-the-world-of-beauty-vF.pdf\n",
    "\n",
    "- \"AI·초개인화 더한 화장품, ‘뷰티테크’로 진화하다\" - 매거진 한경 이명지 기자\n",
    "    > https://magazine.hankyung.com/business/article/202203094198b\n",
    "\n",
    "- \"뷰티산업 현황과 뷰티AI산업 전망\" - 상명대학교 서광규 교수 (한국디지털융합진흥원)\n",
    "    > http://www.kidico.or.kr/bbs/board.php?bo_table=mactivity&wr_id=126\n",
    "\n",
    "- \"완제품이 사라진다? ‘립스틱도 커피처럼’…매일 아침 만들어 바르세요\" - 중앙일보 유지연 기자\n",
    "    > https://www.joongang.co.kr/article/23977041#home\n",
    "\n",
    "- \"뷰티산업 견인할 'TOP 4' 기술 트렌드는?\" - 화장품신문 이충욱 기자\n",
    "    > https://www.beautynury.com/m/news/view/93945/cat/10?mobile=yes\n",
    "\n",
    "- \"자연어 처리 - Transformer, BERT, GPT-3\" - Blog heave_17\n",
    "    > https://heave.tistory.com/73\n",
    "\n",
    "- \"Bert와 GPT\" - ratsgos NLP Book\n",
    "    > https://ratsgo.github.io/nlpbook/docs/language_model/bert_gpt/"
   ]
  }
 ],
 "metadata": {
  "interpreter": {
   "hash": "a25cd9f89876bcf3e8ab9a11749a6ba312fc39ea63ca69d0587e322f28223b18"
  },
  "kernelspec": {
   "display_name": "Python 3.8.12 ('ds_study')",
   "language": "python",
   "name": "python3"
  },
  "language_info": {
   "codemirror_mode": {
    "name": "ipython",
    "version": 3
   },
   "file_extension": ".py",
   "mimetype": "text/x-python",
   "name": "python",
   "nbconvert_exporter": "python",
   "pygments_lexer": "ipython3",
   "version": "3.8.12"
  },
  "toc": {
   "base_numbering": 1,
   "nav_menu": {},
   "number_sections": true,
   "sideBar": true,
   "skip_h1_title": true,
   "title_cell": "Table of Contents",
   "title_sidebar": "Contents",
   "toc_cell": true,
   "toc_position": {},
   "toc_section_display": true,
   "toc_window_display": false
  }
 },
 "nbformat": 4,
 "nbformat_minor": 5
}
