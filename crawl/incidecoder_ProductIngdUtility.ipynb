{
 "cells": [
  {
   "cell_type": "code",
   "execution_count": 1,
   "metadata": {},
   "outputs": [],
   "source": [
    "import warnings\n",
    "warnings.filterwarnings(action='ignore')\n",
    "import pandas as pd\n",
    "from tqdm import tqdm_notebook\n",
    "from bs4 import BeautifulSoup\n",
    "import requests\n",
    "from html_table_parser import parser_functions"
   ]
  },
  {
   "cell_type": "code",
   "execution_count": 5,
   "metadata": {},
   "outputs": [
    {
     "name": "stdout",
     "output_type": "stream",
     "text": [
      "Total Number of Products: 77001\n"
     ]
    }
   ],
   "source": [
    "product_list = list(pd.read_csv(\"../data/product_list.csv\")['product_label'])\n",
    "print('Total Number of Products:',len(product_list))"
   ]
  },
  {
   "cell_type": "code",
   "execution_count": 4,
   "metadata": {},
   "outputs": [],
   "source": [
    "product_name = []\n",
    "ingredient_lst = []\n",
    "formatted_ingredient_lst = []\n",
    "what_lst = []"
   ]
  },
  {
   "cell_type": "markdown",
   "metadata": {},
   "source": [
    "CRAWLING - REMARK<br>\n",
    "제품페이지로 접근을 시도할 제품 총 77001개\n",
    "&rarr; 데이터 수집에 상당한 시간이 소요 (24시간 이상 예상)\n",
    "\n",
    "아래 소스코드를 사용하되, 효율적인 수집을 위하여 다음과 같이 진행함:<br>\n",
    "제품리스트(product_list)를 분할 (list slicing) &rarr; 다수의 컴퓨터에서 동시 수집하여 저장 후 병합"
   ]
  },
  {
   "cell_type": "code",
   "execution_count": null,
   "metadata": {},
   "outputs": [],
   "source": [
    "for product in tqdm_notebook(product_list):\n",
    "    url = f\"https://incidecoder.com/products/{product}\"\n",
    "    response = requests.get(url)\n",
    "\n",
    "    if response.status_code == 200:\n",
    "        html = response.text\n",
    "        soup = BeautifulSoup(html, 'html.parser')\n",
    "\n",
    "    data = soup.find('table',{\"class\" : \"product-skim fs16\"})\n",
    "    \n",
    "    ingtmp = []\n",
    "    for tag in data.find_all('a', {'class': \"black ingred-detail-link\"}):\n",
    "        ingtmp.append(tag.attrs['href'][13:])\n",
    "    formatted_ingredient_lst.append(ingtmp)\n",
    "    \n",
    "    \n",
    "    df = parser_functions.make2d(data)[1:]\n",
    "    tmpdf = pd.DataFrame(df, columns=[\"Ingredient name\", \"what-it-does\", \"irr., com.\", \"ID-Rating\"])\n",
    "    \n",
    "    Bold_lst = []\n",
    "    for ing in data.find_all('td', {'class': 'bold'}):\n",
    "        Bold_lst.append(ing.text.replace('\\n','').strip())\n",
    "    \n",
    "    indexes = []\n",
    "    for stop in Bold_lst:\n",
    "        indexes.append(tmpdf[tmpdf['Ingredient name'] == stop].index[0])\n",
    "    \n",
    "    tmpdf.drop(indexes, axis=0,inplace=True)\n",
    "\n",
    "    ingredient_lst.append(list(tmpdf['Ingredient name']))\n",
    "    what_lst.append(list(tmpdf[\"what-it-does\"]))\n",
    "    product_name.append(product)"
   ]
  },
  {
   "cell_type": "code",
   "execution_count": null,
   "metadata": {},
   "outputs": [],
   "source": [
    "each_ingredient_lst = []\n",
    "for lst in ingredient_lst:\n",
    "    for ing in lst:\n",
    "        each_ingredient_lst.append(ing)\n",
    "\n",
    "each_formatted_ingredient_lst = []\n",
    "for lst in formatted_ingredient_lst:\n",
    "    for ing in lst:\n",
    "        each_formatted_ingredient_lst.append(ing)\n",
    "\n",
    "each_what_lst = []\n",
    "for lst in what_lst:\n",
    "    for does in lst:\n",
    "        tmp = []\n",
    "        for does in does.replace('\\n','').replace('\\u200b','').split(','):\n",
    "            tmp.append(does.strip())\n",
    "        each_what_lst.append(tmp)"
   ]
  },
  {
   "cell_type": "markdown",
   "metadata": {},
   "source": [
    "최종 제품데이터 (제품명 - 성분리스트 - 성분리스트(formatted))"
   ]
  },
  {
   "cell_type": "code",
   "execution_count": null,
   "metadata": {},
   "outputs": [],
   "source": [
    "cols = ['product name', 'ingredients', 'formatted ingredients']\n",
    "product_df = pd.DataFrame(columns=cols)\n",
    "\n",
    "product_df['product name'] = product_name\n",
    "product_df['ingredients'] = ingredient_lst\n",
    "product_df['formatted ingredients'] = formatted_ingredient_lst\n",
    "\n",
    "product_df"
   ]
  },
  {
   "cell_type": "code",
   "execution_count": null,
   "metadata": {},
   "outputs": [],
   "source": [
    "product_df.to_csv('../data/inci_prod_final.csv',index=False)"
   ]
  },
  {
   "cell_type": "markdown",
   "metadata": {},
   "source": [
    "\n",
    "||product name|ingredients|formatted ingredients|\n",
    "|---|---|---|---|\n",
    "|0|innisfree-auto-eyebrow-pencil-no-4|[Hydrogenated Soybean Oil, Hydrogenated Coco-G...|[hydrogenated-soybean-oil, hydrogenated-coco-g...|\n",
    "|1|bielenda-good-skin-acid-peel-micro-exfoliating...|[Aqua (Water), Mandelic Acid, Lactobionic Acid...|[water, mandelic-acid, lactobionic-acid, niaci...|\n",
    "|2|neals-yard-remedies-st-johns-wort-macerated-oil|[Olea Europaea (Olive) Fruit Oil*, Hypericum P...|[olea-europaea-fruit-oil, hypericum-perforatum...|\n",
    "|...|...|...|...|"
   ]
  },
  {
   "cell_type": "markdown",
   "metadata": {},
   "source": [
    "최종 성분데이터 (성분명 - 성분명(formatted) - 효능(what-it-does))"
   ]
  },
  {
   "cell_type": "code",
   "execution_count": null,
   "metadata": {},
   "outputs": [],
   "source": [
    "ingredient_df = pd.DataFrame(columns=['ingredients','formatted ingredients','what-it-does'])\n",
    "ingredient_df['ingredients'] = each_ingredient_lst\n",
    "ingredient_df['formatted ingredients'] = each_formatted_ingredient_lst\n",
    "ingredient_df['what-it-does'] = each_what_lst\n",
    "ingredient_df"
   ]
  },
  {
   "cell_type": "code",
   "execution_count": null,
   "metadata": {},
   "outputs": [],
   "source": [
    "ingredient_df.to_csv('../inci_ing_final.csv',index=False)"
   ]
  },
  {
   "cell_type": "markdown",
   "metadata": {},
   "source": [
    "||ingredients|formatted ingredients|what-it-does|\n",
    "|---|---|---|---|\n",
    "|0|Hydrogenated Soybean Oil|hydrogenated-soybean-oil|[emollient, moisturizer/humectant, viscosity c...|\n",
    "|1|Hydrogenated Coco-Glycerides|hydrogenated-coco-glycerides|[emollient]|\n",
    "|2|Iron Oxides (Ci 77499)|iron-oxides|[colorant]|"
   ]
  }
 ],
 "metadata": {
  "interpreter": {
   "hash": "189257d3ead7ed4cabfbed122a0ee4e0c566f64830e9ec3d7b4f7f74d108b2bc"
  },
  "kernelspec": {
   "display_name": "Python 3.8.13 ('ds_study')",
   "language": "python",
   "name": "python3"
  },
  "language_info": {
   "codemirror_mode": {
    "name": "ipython",
    "version": 3
   },
   "file_extension": ".py",
   "mimetype": "text/x-python",
   "name": "python",
   "nbconvert_exporter": "python",
   "pygments_lexer": "ipython3",
   "version": "3.8.13"
  },
  "orig_nbformat": 4
 },
 "nbformat": 4,
 "nbformat_minor": 2
}
